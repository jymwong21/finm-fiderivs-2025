{
 "cells": [
  {
   "cell_type": "markdown",
   "id": "d9408e56",
   "metadata": {},
   "source": [
    "# **<span style=\"color:red\">Solutions 3</span>**\n",
    "\n",
    "## FINM 37500: Fixed Income Derivatives\n",
    "\n",
    "### Mark Hendricks\n",
    "\n",
    "#### Winter 2025"
   ]
  },
  {
   "cell_type": "markdown",
   "id": "d8c90df2-5830-4e7a-ae68-aa03552b2cf5",
   "metadata": {},
   "source": [
    "#### Notation Commands\n",
    "\n",
    "$$\\newcommand{\\cpn}{\\text{c}}$$\n",
    "$$\\newcommand{\\Tunder}{T_\\text{bond}}$$\n",
    "$$\\newcommand{\\accint}{\\xi}$$\n",
    "$$\\newcommand{\\convert}{\\psi}$$\n",
    "$$\\newcommand{\\ctd}{\\text{ctd}}$$\n",
    "\n",
    "$$\\newcommand{\\refrate}{r^{\\text{ref}}}$$\n",
    "$$\\newcommand{\\pfwd}{P_{\\text{fwd}}}$$\n",
    "$$\\newcommand{\\grossbasis}{B}$$\n",
    "$$\\newcommand{\\netbasis}{\\tilde{\\grossbasis}}$$\n",
    "$$\\newcommand{\\pnl}{\\Pi}$$\n",
    "\n",
    "$$\\newcommand{\\years}{\\tau}$$\n",
    "$$\\newcommand{\\yearsACT}{\\years_{\\text{act/360}}}$$\n",
    "\n",
    "$$\\newcommand{\\fwdprice}{\\mathcal{F}_{t\\to T}}$$\n",
    "$$\\newcommand{\\futprice}{F_{t\\to T}}$$\n",
    "\n",
    "$$\\newcommand{\\fwdpriceT}{\\mathcal{F}_{T\\to T}}$$\n",
    "$$\\newcommand{\\futpriceT}{F_{T\\to T}}$$\n",
    "\n",
    "$$\\newcommand{\\fwdpriceDT}{\\mathcal{F}_{t+h\\to T}}$$\n",
    "$$\\newcommand{\\futpriceDT}{F_{t+h\\to T}}$$\n",
    "\n",
    "$$\\newcommand{\\rrepo}{r^{\\text{repo}}}$$\n",
    "$$\\newcommand{\\carry}{\\widetilde{\\cpn}}$$"
   ]
  },
  {
   "cell_type": "markdown",
   "id": "eece8e44",
   "metadata": {},
   "source": [
    "***"
   ]
  },
  {
   "cell_type": "markdown",
   "id": "447c3b86",
   "metadata": {},
   "source": [
    "# 1. Trading Bonds"
   ]
  },
  {
   "cell_type": "markdown",
   "id": "131437f7",
   "metadata": {},
   "source": [
    "### Data\n",
    "\n",
    "The file `data/fut_bond_data_TYZ4_2024-08-01.xlsx` has market data on the following:\n",
    "* 10-year Treasury future, expiring December 2024\n",
    "* The specifications of the deliverable treasury bonds\n",
    "\n",
    "Suppose the present date is `2024-08-01`."
   ]
  },
  {
   "cell_type": "markdown",
   "id": "3fcc78e3-53e7-4e10-82dd-15036eeed0fd",
   "metadata": {},
   "source": [
    "### 1.1\n",
    "For each bond, calculate the \n",
    "* gross basis\n",
    "* carry\n",
    "* net basis \n",
    "\n",
    "Your calculations will be more accurate if you consider that it takes time for any trade to \"settle\". Assume it takes one day.\n",
    "\n",
    "#### Tip: Calculate Gross Basis using Conversion Factor\n",
    "\n",
    "$$\\underbrace{\\grossbasis_{t,t+\\tau}^i}_{\\text{gross basis}}=\\;  P_t^i - \\convert^i\\futprice$$\n",
    "\n",
    "where $\\convert$ denotes the **conversion factor** which is defined for each bond. You can find the conversion factor in the `conversion` column of the `bonds` sheet of the data.\n",
    "\n",
    "Why the use of a conversion factor?\n",
    "* The deliverable bonds differ in maturity and coupon, and thus range in value.\n",
    "* To account for this, CBOT uses a **conversion factor** such that the futures price at delivery for bond $i$ is\n",
    "$$\\futpriceT\\convert^i$$\n",
    "\n",
    "\n",
    "#### Tip: Calculate Net Basis as Gross Basis Minus Carry\n",
    "\n",
    "$$\\begin{align*}\n",
    "\\text{net basis} \\equiv \\netbasis^i_{t,T} =& \\grossbasis^i_{t,T} - \\left(\\cpn N - \\rrepo P_t^{i,\\text{dirty}}\\right)\\yearsACT\\\\\n",
    "=& \\grossbasis^i_{t,T} - \\left[\\cpn N - \\rrepo \\left(P_t^{i} + \\accint_t^i\\right)\\right]\\yearsACT\n",
    "\\end{align*}$$\n",
    "\n",
    "recalling that\n",
    "* $N$ denotes the notional, (here face value of 100)\n",
    "* $\\accint$ denotes accrued interest\n",
    "* $\\rrepo$ denotes the repo rate\n",
    "* $\\yearsACT$ denotes the time interval quoted as ACT/360"
   ]
  },
  {
   "cell_type": "markdown",
   "id": "41d8b344-4dfc-4339-9043-7a75d3db7f01",
   "metadata": {},
   "source": [
    "### 1.2.\n",
    "If you were required to put on a position today\n",
    "* long one of the bonds\n",
    "* short the future\n",
    "\n",
    "which would you choose based on the data provided in the spreadsheet?"
   ]
  },
  {
   "cell_type": "markdown",
   "id": "8883eca6-6346-4be5-99a5-81345c871fb6",
   "metadata": {},
   "source": [
    "### 1.3.\n",
    "\n",
    "Calculate the conversion factor for each bond. Report it to `6` decimal places.\n",
    "\n",
    "Do they match the conversion factor provided by Bloomberg?\n",
    "\n",
    "\n",
    "#### Tip: Calculating the Conversion Factor\n",
    "\n",
    "CBOT calculates the conversion for any bond as the discounted cashflows of the bond, where every cashflow is discounted by 6\\%.\n",
    "* Yes, this conversion factor formula always uses 6\\%, regardless of actual interest rates."
   ]
  },
  {
   "cell_type": "markdown",
   "id": "ea423f93-75fa-48d0-b789-d56563e5cb45",
   "metadata": {},
   "source": [
    "### 1.4 \n",
    "\n",
    "Calculate the forward price of each bond.\n",
    "\n",
    "Use the forward prices to do an alternate calculation of net basis, using the formula in the discussion notebook.\n",
    "\n",
    "Does this calculation agree with the net basis calculation which used gross basis minus carry?\n",
    "\n",
    "\n",
    "#### Calculate net basis using forward price \n",
    "\n",
    "Net basis is also calculated with the same formula as gross basis, but replacing the spot price with the forward price:\n",
    "\n",
    "$$\\text{net basis} \\equiv \\netbasis^i_{t,T} = \\fwdprice^i - \\futprice\\convert^i$$\n",
    "\n",
    "recalling that\n",
    "* $\\fwdprice$ denotes the forward price\n",
    "* $\\futprice$ denotes the futures price\n",
    "* $\\convert$ denotes the bond's conversion factor\n",
    "\n",
    "As we saw in Week 2, no-arbitrage (and frictionless markets) would imply the forward price is exactly the spot price minus carry, in which case this definition would match.\n",
    "\n",
    "### Forward Price\n",
    "\n",
    "The forward price is given by the no-arbitrage relationship:\n",
    "\n",
    "$$\\begin{align*}\n",
    "\\text{dirty} \\fwdprice =& (P_t^i + \\accint_t^i)\\left(1+\\rrepo_t\\, \\yearsACT\\right)\\\\\n",
    "\\fwdprice =& (P_t^i + \\accint^i_t)\\left(1+\\rrepo_t\\, \\yearsACT\\right) - \\accint_T\n",
    "\\end{align*}$$\n",
    "\n",
    "\n",
    "#### With interim coupons\n",
    "If there are interim coupons, the no-arbitrage relationship still holds,\n",
    "* buy the bond at the dirty price\n",
    "* simultaneously repo it\n",
    "* when the coupon pays, use it to reduce the repo balance\n",
    "* finally, at the terminal date, close out the repo\n",
    "\n",
    "$$\\begin{align*}\n",
    "\\text{dirty} \\fwdprice =& \\left[(P_t^i + \\accint_t)\\left(1+\\rrepo_t\\, \\tau_0\\right)-100\\frac{\\cpn}{2}\\right]\\left(1+\\rrepo_t\\, \\tau_1\\right)\\\\\n",
    "\\fwdprice =& \\left[(P^i_t + \\accint^i_t)\\left(1+\\rrepo_t\\, \\tau_0\\right)-100\\frac{\\cpn}{2}\\right]\\left(1+\\rrepo_t\\, \\tau_1\\right) - \\accint^i_T\n",
    "\\end{align*}$$\n",
    "where\n",
    "* $\\tau_0$ denotes the pre-coupon forward interval, $t_{\\text{coupon}}-t$ denoted as ACT/360\n",
    "* $\\tau_1$ denotes the pre-coupon forward interval, $T-t_{\\text{coupon}}$ denoted as ACT/360\n",
    "* note that $\\tau=\\tau_0+\\tau_1$, so the formula is simply splitting the forward interval into pre and post-coupon intervals."
   ]
  },
  {
   "cell_type": "markdown",
   "id": "74f599f8",
   "metadata": {},
   "source": [
    "***"
   ]
  },
  {
   "cell_type": "markdown",
   "id": "1a465660",
   "metadata": {},
   "source": [
    "# **<span style=\"color:red\">Solution 1</span>**"
   ]
  },
  {
   "cell_type": "code",
   "execution_count": 1,
   "id": "fd3a7a89",
   "metadata": {
    "jupyter": {
     "source_hidden": true
    }
   },
   "outputs": [],
   "source": [
    "import numpy as np\n",
    "import pandas as pd\n",
    "\n",
    "from datetime import date\n",
    "from datetime import datetime\n",
    "\n",
    "import sys\n",
    "sys.path.insert(0, '../cmds')\n",
    "from ficcvol import *\n",
    "from binomial import *\n",
    "from ratecurves import *"
   ]
  },
  {
   "cell_type": "code",
   "execution_count": 2,
   "id": "39f0b8fd",
   "metadata": {
    "jupyter": {
     "source_hidden": true
    },
    "scrolled": true
   },
   "outputs": [],
   "source": [
    "import datetime\n",
    "import warnings\n",
    "\n",
    "import matplotlib.pyplot as plt\n",
    "import seaborn as sns\n",
    "%matplotlib inline\n",
    "plt.rcParams['figure.figsize'] = (12,6)\n",
    "plt.rcParams['font.size'] = 15\n",
    "plt.rcParams['legend.fontsize'] = 13\n",
    "\n",
    "import matplotlib.ticker as mtick\n",
    "from matplotlib.ticker import (MultipleLocator,\n",
    "                               FormatStrFormatter,\n",
    "                               AutoMinorLocator)"
   ]
  },
  {
   "cell_type": "markdown",
   "id": "33c11654",
   "metadata": {},
   "source": [
    "## Parameters"
   ]
  },
  {
   "cell_type": "code",
   "execution_count": 3,
   "id": "adca6ffb",
   "metadata": {
    "jupyter": {
     "source_hidden": true
    }
   },
   "outputs": [],
   "source": [
    "DATE = '2024-08-01'\n",
    "FREQ = 52\n",
    "futtick = 'TYZ4'\n",
    "\n",
    "FACE = 100\n",
    "\n",
    "DAYS_YEAR = 365\n",
    "DAYS_TBILL_DENOM = 360"
   ]
  },
  {
   "cell_type": "markdown",
   "id": "190eeef9",
   "metadata": {},
   "source": [
    "## Load Market Data"
   ]
  },
  {
   "cell_type": "code",
   "execution_count": 4,
   "id": "71af9243",
   "metadata": {
    "jupyter": {
     "source_hidden": true
    }
   },
   "outputs": [
    {
     "data": {
      "text/plain": [
       "field\n",
       "last_update_dt         2024-08-02 00:00:00\n",
       "px_last                         114.234375\n",
       "last_tradeable_dt      2024-12-19 00:00:00\n",
       "fut_dlv_dt_last        2024-12-31 00:00:00\n",
       "fut_days_expire                        139\n",
       "fut_ctd                    T 4.25 06/30/31\n",
       "fut_ctd_px                      103.296875\n",
       "fut_ctd_gross_basis               -9.67291\n",
       "fut_ctd_net_basis                 2.684063\n",
       "Name: TYZ4 Comdty, dtype: object"
      ]
     },
     "execution_count": 4,
     "metadata": {},
     "output_type": "execute_result"
    }
   ],
   "source": [
    "futdata = pd.read_excel(f'../data/fut_bond_data_{futtick}_{DATE}.xlsx', sheet_name=f'future').set_index('field').iloc[:,0]\n",
    "futdata"
   ]
  },
  {
   "cell_type": "code",
   "execution_count": 5,
   "id": "2de2a295",
   "metadata": {
    "jupyter": {
     "source_hidden": true
    }
   },
   "outputs": [
    {
     "data": {
      "application/vnd.microsoft.datawrangler.viewer.v0+json": {
       "columns": [
        {
         "name": "ticker",
         "rawType": "object",
         "type": "string"
        },
        {
         "name": "last_update_dt",
         "rawType": "datetime64[ns]",
         "type": "datetime"
        },
        {
         "name": "px_last",
         "rawType": "float64",
         "type": "float"
        },
        {
         "name": "maturity",
         "rawType": "datetime64[ns]",
         "type": "datetime"
        },
        {
         "name": "days_to_mty",
         "rawType": "int64",
         "type": "integer"
        },
        {
         "name": "dur_adj_mid",
         "rawType": "float64",
         "type": "float"
        },
        {
         "name": "cpn",
         "rawType": "float64",
         "type": "float"
        },
        {
         "name": "nxt_cpn_dt",
         "rawType": "datetime64[ns]",
         "type": "datetime"
        },
        {
         "name": "days_to_next_coupon",
         "rawType": "int64",
         "type": "integer"
        },
        {
         "name": "int_acc",
         "rawType": "float64",
         "type": "float"
        },
        {
         "name": "accrued_days_between_cpn_dates",
         "rawType": "int64",
         "type": "integer"
        },
        {
         "name": "days_acc",
         "rawType": "int64",
         "type": "integer"
        },
        {
         "name": "basis_mid",
         "rawType": "float64",
         "type": "float"
        },
        {
         "name": "repo_implied_reporate",
         "rawType": "float64",
         "type": "float"
        },
        {
         "name": "repo_reporate",
         "rawType": "float64",
         "type": "float"
        },
        {
         "name": "conversion",
         "rawType": "float64",
         "type": "float"
        }
       ],
       "conversionMethod": "pd.DataFrame",
       "ref": "7f0e41f4-f465-4af4-b846-72083d99c46e",
       "rows": [
        [
         "91282CCS Govt",
         "2024-08-02 00:00:00",
         "84.84375",
         "2031-08-15 00:00:00",
         "2566",
         "6.550426483922921",
         "1.25",
         "2024-08-15 00:00:00",
         "10",
         "0.5906593406593407",
         "182",
         "172",
         "46.25374639250003",
         "3.646209103119524",
         "5.375",
         "0.7474"
        ],
        [
         "91282CDJ Govt",
         "2024-08-02 00:00:00",
         "85.0625",
         "2031-11-15 00:00:00",
         "2658",
         "6.763513204255704",
         "1.375",
         "2024-11-15 00:00:00",
         "102",
         "0.3063858695652174",
         "184",
         "82",
         "55.779",
         "3.623413265102656",
         "5.375",
         "0.7463"
        ],
        [
         "91282CDY Govt",
         "2024-08-02 00:00:00",
         "87.796875",
         "2032-02-15 00:00:00",
         "2750",
         "6.816994490574774",
         "1.875",
         "2024-08-15 00:00:00",
         "10",
         "0.885989010989011",
         "182",
         "172",
         "65.71775000000025",
         "3.675354266172103",
         "5.375",
         "0.767"
        ],
        [
         "91282CEP Govt",
         "2024-08-02 00:00:00",
         "94.078125",
         "2032-05-15 00:00:00",
         "2840",
         "6.820612304571005",
         "2.875",
         "2024-11-15 00:00:00",
         "102",
         "0.640625",
         "184",
         "82",
         "75.04874999999993",
         "3.644107246550732",
         "5.375",
         "0.8184"
        ],
        [
         "91282CFF Govt",
         "2024-08-02 00:00:00",
         "93.0",
         "2032-08-15 00:00:00",
         "2932",
         "6.990905071304825",
         "2.75",
         "2024-08-15 00:00:00",
         "10",
         "1.299450549450549",
         "182",
         "172",
         "86.00325000000021",
         "3.692673175373685",
         "5.375",
         "0.806"
        ],
        [
         "91282CFV Govt",
         "2024-08-02 00:00:00",
         "102.53125",
         "2032-11-15 00:00:00",
         "3024",
         "6.921133849383482",
         "4.125",
         "2024-11-15 00:00:00",
         "102",
         "0.9191576086956522",
         "184",
         "82",
         null,
         "3.649616711287203",
         "5.375",
         "0.8851"
        ],
        [
         "91282CKW Govt",
         "2024-08-02 00:00:00",
         "103.296875",
         "2031-06-30 00:00:00",
         "2520",
         "5.937053499891134",
         "4.25",
         "2024-12-31 00:00:00",
         "148",
         "0.4157608695652174",
         "184",
         "36",
         "43.81999639249989",
         "3.590292295263531",
         "5.375",
         "0.9069"
        ],
        [
         "91282CLD Govt",
         "2024-08-02 00:00:00",
         "102.546875",
         "2031-07-31 00:00:00",
         "2551",
         "6.038216712204028",
         "4.125",
         "2025-01-31 00:00:00",
         "179",
         "0.05604619565217391",
         "184",
         "5",
         "44.96174639250012",
         "3.594132816671635",
         "5.375",
         "0.9003"
        ]
       ],
       "shape": {
        "columns": 15,
        "rows": 8
       }
      },
      "text/html": [
       "<div>\n",
       "<style scoped>\n",
       "    .dataframe tbody tr th:only-of-type {\n",
       "        vertical-align: middle;\n",
       "    }\n",
       "\n",
       "    .dataframe tbody tr th {\n",
       "        vertical-align: top;\n",
       "    }\n",
       "\n",
       "    .dataframe thead th {\n",
       "        text-align: right;\n",
       "    }\n",
       "</style>\n",
       "<table border=\"1\" class=\"dataframe\">\n",
       "  <thead>\n",
       "    <tr style=\"text-align: right;\">\n",
       "      <th></th>\n",
       "      <th>last_update_dt</th>\n",
       "      <th>px_last</th>\n",
       "      <th>maturity</th>\n",
       "      <th>days_to_mty</th>\n",
       "      <th>dur_adj_mid</th>\n",
       "      <th>cpn</th>\n",
       "      <th>nxt_cpn_dt</th>\n",
       "      <th>days_to_next_coupon</th>\n",
       "      <th>int_acc</th>\n",
       "      <th>accrued_days_between_cpn_dates</th>\n",
       "      <th>days_acc</th>\n",
       "      <th>basis_mid</th>\n",
       "      <th>repo_implied_reporate</th>\n",
       "      <th>repo_reporate</th>\n",
       "      <th>conversion</th>\n",
       "    </tr>\n",
       "    <tr>\n",
       "      <th>ticker</th>\n",
       "      <th></th>\n",
       "      <th></th>\n",
       "      <th></th>\n",
       "      <th></th>\n",
       "      <th></th>\n",
       "      <th></th>\n",
       "      <th></th>\n",
       "      <th></th>\n",
       "      <th></th>\n",
       "      <th></th>\n",
       "      <th></th>\n",
       "      <th></th>\n",
       "      <th></th>\n",
       "      <th></th>\n",
       "      <th></th>\n",
       "    </tr>\n",
       "  </thead>\n",
       "  <tbody>\n",
       "    <tr>\n",
       "      <th>91282CCS Govt</th>\n",
       "      <td>2024-08-02</td>\n",
       "      <td>84.843750</td>\n",
       "      <td>2031-08-15</td>\n",
       "      <td>2566</td>\n",
       "      <td>6.550426</td>\n",
       "      <td>1.250</td>\n",
       "      <td>2024-08-15</td>\n",
       "      <td>10</td>\n",
       "      <td>0.590659</td>\n",
       "      <td>182</td>\n",
       "      <td>172</td>\n",
       "      <td>46.253746</td>\n",
       "      <td>3.646209</td>\n",
       "      <td>5.375</td>\n",
       "      <td>0.7474</td>\n",
       "    </tr>\n",
       "    <tr>\n",
       "      <th>91282CDJ Govt</th>\n",
       "      <td>2024-08-02</td>\n",
       "      <td>85.062500</td>\n",
       "      <td>2031-11-15</td>\n",
       "      <td>2658</td>\n",
       "      <td>6.763513</td>\n",
       "      <td>1.375</td>\n",
       "      <td>2024-11-15</td>\n",
       "      <td>102</td>\n",
       "      <td>0.306386</td>\n",
       "      <td>184</td>\n",
       "      <td>82</td>\n",
       "      <td>55.779000</td>\n",
       "      <td>3.623413</td>\n",
       "      <td>5.375</td>\n",
       "      <td>0.7463</td>\n",
       "    </tr>\n",
       "    <tr>\n",
       "      <th>91282CDY Govt</th>\n",
       "      <td>2024-08-02</td>\n",
       "      <td>87.796875</td>\n",
       "      <td>2032-02-15</td>\n",
       "      <td>2750</td>\n",
       "      <td>6.816994</td>\n",
       "      <td>1.875</td>\n",
       "      <td>2024-08-15</td>\n",
       "      <td>10</td>\n",
       "      <td>0.885989</td>\n",
       "      <td>182</td>\n",
       "      <td>172</td>\n",
       "      <td>65.717750</td>\n",
       "      <td>3.675354</td>\n",
       "      <td>5.375</td>\n",
       "      <td>0.7670</td>\n",
       "    </tr>\n",
       "    <tr>\n",
       "      <th>91282CEP Govt</th>\n",
       "      <td>2024-08-02</td>\n",
       "      <td>94.078125</td>\n",
       "      <td>2032-05-15</td>\n",
       "      <td>2840</td>\n",
       "      <td>6.820612</td>\n",
       "      <td>2.875</td>\n",
       "      <td>2024-11-15</td>\n",
       "      <td>102</td>\n",
       "      <td>0.640625</td>\n",
       "      <td>184</td>\n",
       "      <td>82</td>\n",
       "      <td>75.048750</td>\n",
       "      <td>3.644107</td>\n",
       "      <td>5.375</td>\n",
       "      <td>0.8184</td>\n",
       "    </tr>\n",
       "    <tr>\n",
       "      <th>91282CFF Govt</th>\n",
       "      <td>2024-08-02</td>\n",
       "      <td>93.000000</td>\n",
       "      <td>2032-08-15</td>\n",
       "      <td>2932</td>\n",
       "      <td>6.990905</td>\n",
       "      <td>2.750</td>\n",
       "      <td>2024-08-15</td>\n",
       "      <td>10</td>\n",
       "      <td>1.299451</td>\n",
       "      <td>182</td>\n",
       "      <td>172</td>\n",
       "      <td>86.003250</td>\n",
       "      <td>3.692673</td>\n",
       "      <td>5.375</td>\n",
       "      <td>0.8060</td>\n",
       "    </tr>\n",
       "    <tr>\n",
       "      <th>91282CFV Govt</th>\n",
       "      <td>2024-08-02</td>\n",
       "      <td>102.531250</td>\n",
       "      <td>2032-11-15</td>\n",
       "      <td>3024</td>\n",
       "      <td>6.921134</td>\n",
       "      <td>4.125</td>\n",
       "      <td>2024-11-15</td>\n",
       "      <td>102</td>\n",
       "      <td>0.919158</td>\n",
       "      <td>184</td>\n",
       "      <td>82</td>\n",
       "      <td>NaN</td>\n",
       "      <td>3.649617</td>\n",
       "      <td>5.375</td>\n",
       "      <td>0.8851</td>\n",
       "    </tr>\n",
       "    <tr>\n",
       "      <th>91282CKW Govt</th>\n",
       "      <td>2024-08-02</td>\n",
       "      <td>103.296875</td>\n",
       "      <td>2031-06-30</td>\n",
       "      <td>2520</td>\n",
       "      <td>5.937053</td>\n",
       "      <td>4.250</td>\n",
       "      <td>2024-12-31</td>\n",
       "      <td>148</td>\n",
       "      <td>0.415761</td>\n",
       "      <td>184</td>\n",
       "      <td>36</td>\n",
       "      <td>43.819996</td>\n",
       "      <td>3.590292</td>\n",
       "      <td>5.375</td>\n",
       "      <td>0.9069</td>\n",
       "    </tr>\n",
       "    <tr>\n",
       "      <th>91282CLD Govt</th>\n",
       "      <td>2024-08-02</td>\n",
       "      <td>102.546875</td>\n",
       "      <td>2031-07-31</td>\n",
       "      <td>2551</td>\n",
       "      <td>6.038217</td>\n",
       "      <td>4.125</td>\n",
       "      <td>2025-01-31</td>\n",
       "      <td>179</td>\n",
       "      <td>0.056046</td>\n",
       "      <td>184</td>\n",
       "      <td>5</td>\n",
       "      <td>44.961746</td>\n",
       "      <td>3.594133</td>\n",
       "      <td>5.375</td>\n",
       "      <td>0.9003</td>\n",
       "    </tr>\n",
       "  </tbody>\n",
       "</table>\n",
       "</div>"
      ],
      "text/plain": [
       "              last_update_dt     px_last   maturity  days_to_mty  dur_adj_mid  \\\n",
       "ticker                                                                          \n",
       "91282CCS Govt     2024-08-02   84.843750 2031-08-15         2566     6.550426   \n",
       "91282CDJ Govt     2024-08-02   85.062500 2031-11-15         2658     6.763513   \n",
       "91282CDY Govt     2024-08-02   87.796875 2032-02-15         2750     6.816994   \n",
       "91282CEP Govt     2024-08-02   94.078125 2032-05-15         2840     6.820612   \n",
       "91282CFF Govt     2024-08-02   93.000000 2032-08-15         2932     6.990905   \n",
       "91282CFV Govt     2024-08-02  102.531250 2032-11-15         3024     6.921134   \n",
       "91282CKW Govt     2024-08-02  103.296875 2031-06-30         2520     5.937053   \n",
       "91282CLD Govt     2024-08-02  102.546875 2031-07-31         2551     6.038217   \n",
       "\n",
       "                 cpn nxt_cpn_dt  days_to_next_coupon   int_acc  \\\n",
       "ticker                                                           \n",
       "91282CCS Govt  1.250 2024-08-15                   10  0.590659   \n",
       "91282CDJ Govt  1.375 2024-11-15                  102  0.306386   \n",
       "91282CDY Govt  1.875 2024-08-15                   10  0.885989   \n",
       "91282CEP Govt  2.875 2024-11-15                  102  0.640625   \n",
       "91282CFF Govt  2.750 2024-08-15                   10  1.299451   \n",
       "91282CFV Govt  4.125 2024-11-15                  102  0.919158   \n",
       "91282CKW Govt  4.250 2024-12-31                  148  0.415761   \n",
       "91282CLD Govt  4.125 2025-01-31                  179  0.056046   \n",
       "\n",
       "               accrued_days_between_cpn_dates  days_acc  basis_mid  \\\n",
       "ticker                                                               \n",
       "91282CCS Govt                             182       172  46.253746   \n",
       "91282CDJ Govt                             184        82  55.779000   \n",
       "91282CDY Govt                             182       172  65.717750   \n",
       "91282CEP Govt                             184        82  75.048750   \n",
       "91282CFF Govt                             182       172  86.003250   \n",
       "91282CFV Govt                             184        82        NaN   \n",
       "91282CKW Govt                             184        36  43.819996   \n",
       "91282CLD Govt                             184         5  44.961746   \n",
       "\n",
       "               repo_implied_reporate  repo_reporate  conversion  \n",
       "ticker                                                           \n",
       "91282CCS Govt               3.646209          5.375      0.7474  \n",
       "91282CDJ Govt               3.623413          5.375      0.7463  \n",
       "91282CDY Govt               3.675354          5.375      0.7670  \n",
       "91282CEP Govt               3.644107          5.375      0.8184  \n",
       "91282CFF Govt               3.692673          5.375      0.8060  \n",
       "91282CFV Govt               3.649617          5.375      0.8851  \n",
       "91282CKW Govt               3.590292          5.375      0.9069  \n",
       "91282CLD Govt               3.594133          5.375      0.9003  "
      ]
     },
     "execution_count": 5,
     "metadata": {},
     "output_type": "execute_result"
    }
   ],
   "source": [
    "bonddata = pd.read_excel(f'../data/fut_bond_data_{futtick}_{DATE}.xlsx', sheet_name=f'bonds').set_index('ticker')\n",
    "bonddata"
   ]
  },
  {
   "cell_type": "markdown",
   "id": "a8ca6491",
   "metadata": {},
   "source": [
    "### Calculate Gross Basis\n",
    "\n",
    "$$\\text{gross basis} \\equiv \\grossbasis^i_{t,T} = P_t^i - \\futprice\\convert^i$$"
   ]
  },
  {
   "cell_type": "code",
   "execution_count": 6,
   "id": "9bc1e1de",
   "metadata": {
    "jupyter": {
     "source_hidden": true
    }
   },
   "outputs": [
    {
     "data": {
      "application/vnd.microsoft.datawrangler.viewer.v0+json": {
       "columns": [
        {
         "name": "ticker",
         "rawType": "object",
         "type": "string"
        },
        {
         "name": "dollars",
         "rawType": "float64",
         "type": "float"
        },
        {
         "name": "32nds",
         "rawType": "float64",
         "type": "float"
        }
       ],
       "conversionMethod": "pd.DataFrame",
       "ref": "4e633a85-a690-40d8-8493-de114ac8117f",
       "rows": [
        [
         "91282CCS Govt",
         "-0.5350218749999982",
         "-17.120699999999943"
        ],
        [
         "91282CDJ Govt",
         "-0.19061406249998925",
         "-6.099649999999656"
        ],
        [
         "91282CDY Govt",
         "0.1791093749999959",
         "5.731499999999869"
        ],
        [
         "91282CEP Govt",
         "0.5887124999999997",
         "18.838799999999992"
        ],
        [
         "91282CFF Govt",
         "0.9270937499999974",
         "29.666999999999916"
        ],
        [
         "91282CFV Govt",
         "1.4224046875000056",
         "45.51695000000018"
        ],
        [
         "91282CKW Govt",
         "-0.302279687500004",
         "-9.672950000000128"
        ],
        [
         "91282CLD Govt",
         "-0.2983328124999929",
         "-9.546649999999772"
        ]
       ],
       "shape": {
        "columns": 2,
        "rows": 8
       }
      },
      "text/html": [
       "<div>\n",
       "<style scoped>\n",
       "    .dataframe tbody tr th:only-of-type {\n",
       "        vertical-align: middle;\n",
       "    }\n",
       "\n",
       "    .dataframe tbody tr th {\n",
       "        vertical-align: top;\n",
       "    }\n",
       "\n",
       "    .dataframe thead th {\n",
       "        text-align: right;\n",
       "    }\n",
       "</style>\n",
       "<table border=\"1\" class=\"dataframe\">\n",
       "  <thead>\n",
       "    <tr style=\"text-align: right;\">\n",
       "      <th>gross basis</th>\n",
       "      <th>dollars</th>\n",
       "      <th>32nds</th>\n",
       "    </tr>\n",
       "    <tr>\n",
       "      <th>ticker</th>\n",
       "      <th></th>\n",
       "      <th></th>\n",
       "    </tr>\n",
       "  </thead>\n",
       "  <tbody>\n",
       "    <tr>\n",
       "      <th>91282CCS Govt</th>\n",
       "      <td>-0.535022</td>\n",
       "      <td>-17.12070</td>\n",
       "    </tr>\n",
       "    <tr>\n",
       "      <th>91282CDJ Govt</th>\n",
       "      <td>-0.190614</td>\n",
       "      <td>-6.09965</td>\n",
       "    </tr>\n",
       "    <tr>\n",
       "      <th>91282CDY Govt</th>\n",
       "      <td>0.179109</td>\n",
       "      <td>5.73150</td>\n",
       "    </tr>\n",
       "    <tr>\n",
       "      <th>91282CEP Govt</th>\n",
       "      <td>0.588712</td>\n",
       "      <td>18.83880</td>\n",
       "    </tr>\n",
       "    <tr>\n",
       "      <th>91282CFF Govt</th>\n",
       "      <td>0.927094</td>\n",
       "      <td>29.66700</td>\n",
       "    </tr>\n",
       "    <tr>\n",
       "      <th>91282CFV Govt</th>\n",
       "      <td>1.422405</td>\n",
       "      <td>45.51695</td>\n",
       "    </tr>\n",
       "    <tr>\n",
       "      <th>91282CKW Govt</th>\n",
       "      <td>-0.302280</td>\n",
       "      <td>-9.67295</td>\n",
       "    </tr>\n",
       "    <tr>\n",
       "      <th>91282CLD Govt</th>\n",
       "      <td>-0.298333</td>\n",
       "      <td>-9.54665</td>\n",
       "    </tr>\n",
       "  </tbody>\n",
       "</table>\n",
       "</div>"
      ],
      "text/plain": [
       "gross basis     dollars     32nds\n",
       "ticker                           \n",
       "91282CCS Govt -0.535022 -17.12070\n",
       "91282CDJ Govt -0.190614  -6.09965\n",
       "91282CDY Govt  0.179109   5.73150\n",
       "91282CEP Govt  0.588712  18.83880\n",
       "91282CFF Govt  0.927094  29.66700\n",
       "91282CFV Govt  1.422405  45.51695\n",
       "91282CKW Govt -0.302280  -9.67295\n",
       "91282CLD Govt -0.298333  -9.54665"
      ]
     },
     "execution_count": 6,
     "metadata": {},
     "output_type": "execute_result"
    }
   ],
   "source": [
    "px = bonddata['px_last']\n",
    "\n",
    "gross_basis = (px - futdata.loc['px_last'] * bonddata['conversion']).to_frame().rename(columns={0:'dollars'})\n",
    "gross_basis['32nds'] = gross_basis * 32\n",
    "gross_basis.columns.name = 'gross basis'\n",
    "gross_basis"
   ]
  },
  {
   "cell_type": "markdown",
   "id": "5a33afd1",
   "metadata": {},
   "source": [
    "#### Confirm Bloomberg\n",
    "\n",
    "Note that the provided futures data gives Bloomberg's calculation of which bond is CTD and its associated gross basis.\n",
    "\n",
    "Our calculation of gross basis matches (quoted in 32nds)."
   ]
  },
  {
   "cell_type": "markdown",
   "id": "e7319136-cc08-434b-9df8-d4473b071735",
   "metadata": {},
   "source": [
    "### Calculate Net Basis"
   ]
  },
  {
   "cell_type": "code",
   "execution_count": 7,
   "id": "fb5f24bb",
   "metadata": {
    "jupyter": {
     "source_hidden": true
    }
   },
   "outputs": [],
   "source": [
    "days_settle = 1"
   ]
  },
  {
   "cell_type": "code",
   "execution_count": 8,
   "id": "6461b726",
   "metadata": {
    "jupyter": {
     "source_hidden": true
    }
   },
   "outputs": [
    {
     "data": {
      "application/vnd.microsoft.datawrangler.viewer.v0+json": {
       "columns": [
        {
         "name": "ticker",
         "rawType": "object",
         "type": "string"
        },
        {
         "name": "dollars",
         "rawType": "float64",
         "type": "float"
        },
        {
         "name": "32nds",
         "rawType": "float64",
         "type": "float"
        }
       ],
       "conversionMethod": "pd.DataFrame",
       "ref": "f94fe229-3526-44db-a65f-2c28e1fe3f0e",
       "rows": [
        [
         "91282CCS Govt",
         "0.7461870235233534",
         "23.87798475274731"
        ],
        [
         "91282CDJ Govt",
         "1.0413343424479276",
         "33.32269895833368"
        ],
        [
         "91282CDY Govt",
         "1.2877020196600235",
         "41.20646462912075"
        ],
        [
         "91282CEP Govt",
         "1.438391048177083",
         "46.028513541666655"
        ],
        [
         "91282CFF Govt",
         "1.816044342376371",
         "58.11341895604387"
        ],
        [
         "91282CFV Govt",
         "1.9728950846354225",
         "63.13264270833352"
        ],
        [
         "91282CKW Govt",
         "0.20570403645832935",
         "6.582529166666539"
        ],
        [
         "91282CLD Govt",
         "0.23469583333334043",
         "7.510266666666894"
        ]
       ],
       "shape": {
        "columns": 2,
        "rows": 8
       }
      },
      "text/html": [
       "<div>\n",
       "<style scoped>\n",
       "    .dataframe tbody tr th:only-of-type {\n",
       "        vertical-align: middle;\n",
       "    }\n",
       "\n",
       "    .dataframe tbody tr th {\n",
       "        vertical-align: top;\n",
       "    }\n",
       "\n",
       "    .dataframe thead th {\n",
       "        text-align: right;\n",
       "    }\n",
       "</style>\n",
       "<table border=\"1\" class=\"dataframe\">\n",
       "  <thead>\n",
       "    <tr style=\"text-align: right;\">\n",
       "      <th>net basis</th>\n",
       "      <th>dollars</th>\n",
       "      <th>32nds</th>\n",
       "    </tr>\n",
       "    <tr>\n",
       "      <th>ticker</th>\n",
       "      <th></th>\n",
       "      <th></th>\n",
       "    </tr>\n",
       "  </thead>\n",
       "  <tbody>\n",
       "    <tr>\n",
       "      <th>91282CCS Govt</th>\n",
       "      <td>0.746187</td>\n",
       "      <td>23.877985</td>\n",
       "    </tr>\n",
       "    <tr>\n",
       "      <th>91282CDJ Govt</th>\n",
       "      <td>1.041334</td>\n",
       "      <td>33.322699</td>\n",
       "    </tr>\n",
       "    <tr>\n",
       "      <th>91282CDY Govt</th>\n",
       "      <td>1.287702</td>\n",
       "      <td>41.206465</td>\n",
       "    </tr>\n",
       "    <tr>\n",
       "      <th>91282CEP Govt</th>\n",
       "      <td>1.438391</td>\n",
       "      <td>46.028514</td>\n",
       "    </tr>\n",
       "    <tr>\n",
       "      <th>91282CFF Govt</th>\n",
       "      <td>1.816044</td>\n",
       "      <td>58.113419</td>\n",
       "    </tr>\n",
       "    <tr>\n",
       "      <th>91282CFV Govt</th>\n",
       "      <td>1.972895</td>\n",
       "      <td>63.132643</td>\n",
       "    </tr>\n",
       "    <tr>\n",
       "      <th>91282CKW Govt</th>\n",
       "      <td>0.205704</td>\n",
       "      <td>6.582529</td>\n",
       "    </tr>\n",
       "    <tr>\n",
       "      <th>91282CLD Govt</th>\n",
       "      <td>0.234696</td>\n",
       "      <td>7.510267</td>\n",
       "    </tr>\n",
       "  </tbody>\n",
       "</table>\n",
       "</div>"
      ],
      "text/plain": [
       "net basis       dollars      32nds\n",
       "ticker                            \n",
       "91282CCS Govt  0.746187  23.877985\n",
       "91282CDJ Govt  1.041334  33.322699\n",
       "91282CDY Govt  1.287702  41.206465\n",
       "91282CEP Govt  1.438391  46.028514\n",
       "91282CFF Govt  1.816044  58.113419\n",
       "91282CFV Govt  1.972895  63.132643\n",
       "91282CKW Govt  0.205704   6.582529\n",
       "91282CLD Govt  0.234696   7.510267"
      ]
     },
     "execution_count": 8,
     "metadata": {},
     "output_type": "execute_result"
    }
   ],
   "source": [
    "cpn = bonddata['cpn']/100\n",
    "repo = bonddata['repo_reporate']/100\n",
    "\n",
    "days_fwd = futdata.loc['fut_days_expire'] - days_settle\n",
    "days_cpn_period = bonddata['accrued_days_between_cpn_dates']\n",
    "days_already_accrued = bonddata['days_acc'] + days_settle\n",
    "\n",
    "int_already_acc = cpn*FACE/2 * (days_already_accrued / days_cpn_period)\n",
    "pxdirty = px + int_already_acc\n",
    "\n",
    "carry = ((FACE * cpn - repo * pxdirty) * days_fwd / DAYS_TBILL_DENOM).to_frame().rename(columns={0:'dollars'})\n",
    "carry['32nds'] = carry * 32\n",
    "net_basis = gross_basis - carry\n",
    "net_basis.columns.name = 'net basis'\n",
    "net_basis"
   ]
  },
  {
   "cell_type": "code",
   "execution_count": 24,
   "id": "4443725e",
   "metadata": {},
   "outputs": [
    {
     "data": {
      "text/plain": [
       "ticker\n",
       "91282CCS Govt    0.594093\n",
       "91282CDJ Govt    0.310122\n",
       "91282CDY Govt    0.891140\n",
       "91282CEP Govt    0.648438\n",
       "91282CFF Govt    1.307005\n",
       "91282CFV Govt    0.930367\n",
       "91282CKW Govt    0.427310\n",
       "91282CLD Govt    0.067255\n",
       "dtype: float64"
      ]
     },
     "execution_count": 24,
     "metadata": {},
     "output_type": "execute_result"
    }
   ],
   "source": [
    "int_already_acc"
   ]
  },
  {
   "cell_type": "markdown",
   "id": "260f43dc",
   "metadata": {},
   "source": [
    "#### Confirm\n",
    "\n",
    "CTD\n",
    "* The bond with the smallest net basis is seen by the market as being most likely to be CTD.\n",
    "* The corresponding bond indeed matches what Bloomberg's future data reported as the CTD bond.\n",
    "\n",
    "Negative net basis?\n",
    "* If the net basis is negative, which would suggest an arbitrage is possible.\n",
    "* Due to market frictions, we shouldn't be surprised to see this slight negative value.\n",
    "* Trading on it would require us to short the future and go long the bond. There will be some cost of capital in the position."
   ]
  },
  {
   "cell_type": "code",
   "execution_count": 9,
   "id": "7d982eac",
   "metadata": {
    "jupyter": {
     "source_hidden": true
    }
   },
   "outputs": [
    {
     "data": {
      "text/html": [
       "<style type=\"text/css\">\n",
       "</style>\n",
       "<table id=\"T_a843e\">\n",
       "  <thead>\n",
       "    <tr>\n",
       "      <th class=\"blank level0\" >&nbsp;</th>\n",
       "      <th id=\"T_a843e_level0_col0\" class=\"col_heading level0 col0\" >forward price</th>\n",
       "    </tr>\n",
       "    <tr>\n",
       "      <th class=\"index_name level0\" >ticker</th>\n",
       "      <th class=\"blank col0\" >&nbsp;</th>\n",
       "    </tr>\n",
       "  </thead>\n",
       "  <tbody>\n",
       "    <tr>\n",
       "      <th id=\"T_a843e_level0_row0\" class=\"row_heading level0 row0\" >91282CCS Govt</th>\n",
       "      <td id=\"T_a843e_row0_col0\" class=\"data row0 col0\" >86.1228</td>\n",
       "    </tr>\n",
       "    <tr>\n",
       "      <th id=\"T_a843e_level0_row1\" class=\"row_heading level0 row1\" >91282CDJ Govt</th>\n",
       "      <td id=\"T_a843e_row1_col0\" class=\"data row1 col0\" >86.3069</td>\n",
       "    </tr>\n",
       "    <tr>\n",
       "      <th id=\"T_a843e_level0_row2\" class=\"row_heading level0 row2\" >91282CDY Govt</th>\n",
       "      <td id=\"T_a843e_row2_col0\" class=\"data row2 col0\" >88.9012</td>\n",
       "    </tr>\n",
       "    <tr>\n",
       "      <th id=\"T_a843e_level0_row3\" class=\"row_heading level0 row3\" >91282CEP Govt</th>\n",
       "      <td id=\"T_a843e_row3_col0\" class=\"data row3 col0\" >94.9469</td>\n",
       "    </tr>\n",
       "    <tr>\n",
       "      <th id=\"T_a843e_level0_row4\" class=\"row_heading level0 row4\" >91282CFF Govt</th>\n",
       "      <td id=\"T_a843e_row4_col0\" class=\"data row4 col0\" >93.8818</td>\n",
       "    </tr>\n",
       "    <tr>\n",
       "      <th id=\"T_a843e_level0_row5\" class=\"row_heading level0 row5\" >91282CFV Govt</th>\n",
       "      <td id=\"T_a843e_row5_col0\" class=\"data row5 col0\" >103.1065</td>\n",
       "    </tr>\n",
       "    <tr>\n",
       "      <th id=\"T_a843e_level0_row6\" class=\"row_heading level0 row6\" >91282CKW Govt</th>\n",
       "      <td id=\"T_a843e_row6_col0\" class=\"data row6 col0\" >103.8418</td>\n",
       "    </tr>\n",
       "    <tr>\n",
       "      <th id=\"T_a843e_level0_row7\" class=\"row_heading level0 row7\" >91282CLD Govt</th>\n",
       "      <td id=\"T_a843e_row7_col0\" class=\"data row7 col0\" >103.1177</td>\n",
       "    </tr>\n",
       "  </tbody>\n",
       "</table>\n"
      ],
      "text/plain": [
       "<pandas.io.formats.style.Styler at 0x20c9b4992d0>"
      ]
     },
     "execution_count": 9,
     "metadata": {},
     "output_type": "execute_result"
    }
   ],
   "source": [
    "days_next_cpn_period = DAYS_YEAR-days_cpn_period\n",
    "days_next_cpn = bonddata['days_to_next_coupon'] - days_settle\n",
    "days_past_cpn = (days_fwd - days_next_cpn)\n",
    "days_terminal_accrued = days_already_accrued + days_fwd\n",
    "\n",
    "int_postcpn_acc = cpn*FACE/2 * (days_past_cpn / days_next_cpn_period)\n",
    "\n",
    "fwd_prices = ((px + int_already_acc)  * (1+repo * days_next_cpn/DAYS_TBILL_DENOM) - FACE*cpn/2) * (1+repo * days_past_cpn/DAYS_TBILL_DENOM) - int_postcpn_acc\n",
    "fwd_prices.to_frame().rename(columns={0:'forward price'}).style.format('{:.4f}')"
   ]
  },
  {
   "cell_type": "code",
   "execution_count": 10,
   "id": "2a2f7ed6",
   "metadata": {
    "jupyter": {
     "source_hidden": true
    }
   },
   "outputs": [
    {
     "data": {
      "application/vnd.microsoft.datawrangler.viewer.v0+json": {
       "columns": [
        {
         "name": "ticker",
         "rawType": "object",
         "type": "string"
        },
        {
         "name": "('calc via carry', 'dollars')",
         "rawType": "float64",
         "type": "float"
        },
        {
         "name": "('calc via carry', '32nds')",
         "rawType": "float64",
         "type": "float"
        },
        {
         "name": "('calc via forward', 'dollars')",
         "rawType": "float64",
         "type": "float"
        },
        {
         "name": "('calc via forward', '32nds')",
         "rawType": "float64",
         "type": "float"
        }
       ],
       "conversionMethod": "pd.DataFrame",
       "ref": "095e4a0a-8a48-4cc1-aca2-6d92502f0df8",
       "rows": [
        [
         "91282CCS Govt",
         "0.7461870235233534",
         "23.87798475274731",
         "0.7440467984972372",
         "23.80949755191159"
        ],
        [
         "91282CDJ Govt",
         "1.0413343424479276",
         "33.32269895833368",
         "1.0538153555136205",
         "33.722091376435856"
        ],
        [
         "91282CDY Govt",
         "1.2877020196600235",
         "41.20646462912075",
         "1.2834701841045302",
         "41.071045891344966"
        ],
        [
         "91282CEP Govt",
         "1.438391048177083",
         "46.028513541666655",
         "1.457508369443957",
         "46.640267822206624"
        ],
        [
         "91282CFF Govt",
         "1.816044342376371",
         "58.11341895604387",
         "1.8089119125960593",
         "57.8851812030739"
        ],
        [
         "91282CFV Govt",
         "1.9728950846354225",
         "63.13264270833352",
         "1.9976209788291754",
         "63.923871322533614"
        ],
        [
         "91282CKW Govt",
         "0.20570403645832935",
         "6.582529166666539",
         "0.24263985103884522",
         "7.764475233243047"
        ],
        [
         "91282CLD Govt",
         "0.23469583333334043",
         "7.510266666666894",
         "0.27253315634595765",
         "8.721061003070645"
        ]
       ],
       "shape": {
        "columns": 4,
        "rows": 8
       }
      },
      "text/html": [
       "<div>\n",
       "<style scoped>\n",
       "    .dataframe tbody tr th:only-of-type {\n",
       "        vertical-align: middle;\n",
       "    }\n",
       "\n",
       "    .dataframe tbody tr th {\n",
       "        vertical-align: top;\n",
       "    }\n",
       "\n",
       "    .dataframe thead tr th {\n",
       "        text-align: left;\n",
       "    }\n",
       "\n",
       "    .dataframe thead tr:last-of-type th {\n",
       "        text-align: right;\n",
       "    }\n",
       "</style>\n",
       "<table border=\"1\" class=\"dataframe\">\n",
       "  <thead>\n",
       "    <tr>\n",
       "      <th></th>\n",
       "      <th colspan=\"2\" halign=\"left\">calc via carry</th>\n",
       "      <th colspan=\"2\" halign=\"left\">calc via forward</th>\n",
       "    </tr>\n",
       "    <tr>\n",
       "      <th>net basis</th>\n",
       "      <th>dollars</th>\n",
       "      <th>32nds</th>\n",
       "      <th>dollars</th>\n",
       "      <th>32nds</th>\n",
       "    </tr>\n",
       "    <tr>\n",
       "      <th>ticker</th>\n",
       "      <th></th>\n",
       "      <th></th>\n",
       "      <th></th>\n",
       "      <th></th>\n",
       "    </tr>\n",
       "  </thead>\n",
       "  <tbody>\n",
       "    <tr>\n",
       "      <th>91282CCS Govt</th>\n",
       "      <td>0.746187</td>\n",
       "      <td>23.877985</td>\n",
       "      <td>0.744047</td>\n",
       "      <td>23.809498</td>\n",
       "    </tr>\n",
       "    <tr>\n",
       "      <th>91282CDJ Govt</th>\n",
       "      <td>1.041334</td>\n",
       "      <td>33.322699</td>\n",
       "      <td>1.053815</td>\n",
       "      <td>33.722091</td>\n",
       "    </tr>\n",
       "    <tr>\n",
       "      <th>91282CDY Govt</th>\n",
       "      <td>1.287702</td>\n",
       "      <td>41.206465</td>\n",
       "      <td>1.283470</td>\n",
       "      <td>41.071046</td>\n",
       "    </tr>\n",
       "    <tr>\n",
       "      <th>91282CEP Govt</th>\n",
       "      <td>1.438391</td>\n",
       "      <td>46.028514</td>\n",
       "      <td>1.457508</td>\n",
       "      <td>46.640268</td>\n",
       "    </tr>\n",
       "    <tr>\n",
       "      <th>91282CFF Govt</th>\n",
       "      <td>1.816044</td>\n",
       "      <td>58.113419</td>\n",
       "      <td>1.808912</td>\n",
       "      <td>57.885181</td>\n",
       "    </tr>\n",
       "    <tr>\n",
       "      <th>91282CFV Govt</th>\n",
       "      <td>1.972895</td>\n",
       "      <td>63.132643</td>\n",
       "      <td>1.997621</td>\n",
       "      <td>63.923871</td>\n",
       "    </tr>\n",
       "    <tr>\n",
       "      <th>91282CKW Govt</th>\n",
       "      <td>0.205704</td>\n",
       "      <td>6.582529</td>\n",
       "      <td>0.242640</td>\n",
       "      <td>7.764475</td>\n",
       "    </tr>\n",
       "    <tr>\n",
       "      <th>91282CLD Govt</th>\n",
       "      <td>0.234696</td>\n",
       "      <td>7.510267</td>\n",
       "      <td>0.272533</td>\n",
       "      <td>8.721061</td>\n",
       "    </tr>\n",
       "  </tbody>\n",
       "</table>\n",
       "</div>"
      ],
      "text/plain": [
       "              calc via carry            calc via forward           \n",
       "net basis            dollars      32nds          dollars      32nds\n",
       "ticker                                                             \n",
       "91282CCS Govt       0.746187  23.877985         0.744047  23.809498\n",
       "91282CDJ Govt       1.041334  33.322699         1.053815  33.722091\n",
       "91282CDY Govt       1.287702  41.206465         1.283470  41.071046\n",
       "91282CEP Govt       1.438391  46.028514         1.457508  46.640268\n",
       "91282CFF Govt       1.816044  58.113419         1.808912  57.885181\n",
       "91282CFV Govt       1.972895  63.132643         1.997621  63.923871\n",
       "91282CKW Govt       0.205704   6.582529         0.242640   7.764475\n",
       "91282CLD Govt       0.234696   7.510267         0.272533   8.721061"
      ]
     },
     "execution_count": 10,
     "metadata": {},
     "output_type": "execute_result"
    }
   ],
   "source": [
    "net_basis_alt = (fwd_prices - futdata.loc['px_last'] * bonddata['conversion']).to_frame().rename(columns={0:'dollars'})\n",
    "net_basis_alt['32nds'] = net_basis_alt * 32\n",
    "\n",
    "pd.concat([net_basis,net_basis_alt],axis=1,keys=['calc via carry','calc via forward'])"
   ]
  },
  {
   "cell_type": "markdown",
   "id": "3923b52c",
   "metadata": {},
   "source": [
    "#### Confirm\n",
    "\n",
    "Once again, we see that the (likely) CTD indeed has the smallest net basis.\n",
    "\n",
    "However, this net basis...\n",
    "* does not match the other calculation\n",
    "* is negative, which would imply arbitrage\n",
    "\n",
    "Again, these differencees are small enough as to correspond to minor frictions in the market preventing arbitrage from bringing things perfectly in line."
   ]
  },
  {
   "cell_type": "markdown",
   "id": "8b8d9e84",
   "metadata": {},
   "source": [
    "### Confirm that bond conversion factors match the Bloomberg numbers."
   ]
  },
  {
   "cell_type": "code",
   "execution_count": 11,
   "id": "281b058e-4710-427a-9022-8b3ec376df91",
   "metadata": {
    "jupyter": {
     "source_hidden": true
    }
   },
   "outputs": [],
   "source": [
    "NOMDISC = .06\n",
    "\n",
    "Tmat_at_expiration = (bonddata['days_to_mty']-futdata.loc['fut_days_expire'])/DAYS_YEAR"
   ]
  },
  {
   "cell_type": "code",
   "execution_count": 12,
   "id": "f2b24898-e6b1-4404-a9a2-e8c65f4e37cc",
   "metadata": {
    "jupyter": {
     "source_hidden": true
    }
   },
   "outputs": [
    {
     "data": {
      "application/vnd.microsoft.datawrangler.viewer.v0+json": {
       "columns": [
        {
         "name": "ticker",
         "rawType": "object",
         "type": "string"
        },
        {
         "name": "calculation",
         "rawType": "float64",
         "type": "float"
        }
       ],
       "conversionMethod": "pd.DataFrame",
       "ref": "f6944c3f-714e-48d5-bd00-e88eac81b0b0",
       "rows": [
        [
         "91282CCS Govt",
         "0.7426821548401916"
        ],
        [
         "91282CDJ Govt",
         "0.7417584204523947"
        ],
        [
         "91282CDY Govt",
         "0.7629146036061929"
        ],
        [
         "91282CEP Govt",
         "0.8154519373927178"
        ],
        [
         "91282CFF Govt",
         "0.802897267033464"
        ],
        [
         "91282CFV Govt",
         "0.8833467458987301"
        ],
        [
         "91282CKW Govt",
         "0.90667089921153"
        ],
        [
         "91282CLD Govt",
         "0.898940234946549"
        ]
       ],
       "shape": {
        "columns": 1,
        "rows": 8
       }
      },
      "text/html": [
       "<div>\n",
       "<style scoped>\n",
       "    .dataframe tbody tr th:only-of-type {\n",
       "        vertical-align: middle;\n",
       "    }\n",
       "\n",
       "    .dataframe tbody tr th {\n",
       "        vertical-align: top;\n",
       "    }\n",
       "\n",
       "    .dataframe thead th {\n",
       "        text-align: right;\n",
       "    }\n",
       "</style>\n",
       "<table border=\"1\" class=\"dataframe\">\n",
       "  <thead>\n",
       "    <tr style=\"text-align: right;\">\n",
       "      <th></th>\n",
       "      <th>calculation</th>\n",
       "    </tr>\n",
       "    <tr>\n",
       "      <th>ticker</th>\n",
       "      <th></th>\n",
       "    </tr>\n",
       "  </thead>\n",
       "  <tbody>\n",
       "    <tr>\n",
       "      <th>91282CCS Govt</th>\n",
       "      <td>0.742682</td>\n",
       "    </tr>\n",
       "    <tr>\n",
       "      <th>91282CDJ Govt</th>\n",
       "      <td>0.741758</td>\n",
       "    </tr>\n",
       "    <tr>\n",
       "      <th>91282CDY Govt</th>\n",
       "      <td>0.762915</td>\n",
       "    </tr>\n",
       "    <tr>\n",
       "      <th>91282CEP Govt</th>\n",
       "      <td>0.815452</td>\n",
       "    </tr>\n",
       "    <tr>\n",
       "      <th>91282CFF Govt</th>\n",
       "      <td>0.802897</td>\n",
       "    </tr>\n",
       "    <tr>\n",
       "      <th>91282CFV Govt</th>\n",
       "      <td>0.883347</td>\n",
       "    </tr>\n",
       "    <tr>\n",
       "      <th>91282CKW Govt</th>\n",
       "      <td>0.906671</td>\n",
       "    </tr>\n",
       "    <tr>\n",
       "      <th>91282CLD Govt</th>\n",
       "      <td>0.898940</td>\n",
       "    </tr>\n",
       "  </tbody>\n",
       "</table>\n",
       "</div>"
      ],
      "text/plain": [
       "               calculation\n",
       "ticker                    \n",
       "91282CCS Govt     0.742682\n",
       "91282CDJ Govt     0.741758\n",
       "91282CDY Govt     0.762915\n",
       "91282CEP Govt     0.815452\n",
       "91282CFF Govt     0.802897\n",
       "91282CFV Govt     0.883347\n",
       "91282CKW Govt     0.906671\n",
       "91282CLD Govt     0.898940"
      ]
     },
     "execution_count": 12,
     "metadata": {},
     "output_type": "execute_result"
    }
   ],
   "source": [
    "converts = pd.DataFrame(index=bonddata.index,columns=['calculation'],dtype=float)\n",
    "\n",
    "for i in converts.index:\n",
    "    converts.loc[i,'calculation'] = price_bond(NOMDISC, Tmat_at_expiration.loc[i], bonddata.loc[i,'cpn']/100,face=1)\n",
    "\n",
    "converts"
   ]
  },
  {
   "cell_type": "code",
   "execution_count": 13,
   "id": "db63282b-4349-4e66-b88f-973ec9dbf2cd",
   "metadata": {
    "jupyter": {
     "source_hidden": true
    }
   },
   "outputs": [
    {
     "data": {
      "text/html": [
       "<style type=\"text/css\">\n",
       "</style>\n",
       "<table id=\"T_0d6d3\">\n",
       "  <thead>\n",
       "    <tr>\n",
       "      <th class=\"blank level0\" >&nbsp;</th>\n",
       "      <th id=\"T_0d6d3_level0_col0\" class=\"col_heading level0 col0\" >calculation</th>\n",
       "      <th id=\"T_0d6d3_level0_col1\" class=\"col_heading level0 col1\" >bloomberg</th>\n",
       "    </tr>\n",
       "    <tr>\n",
       "      <th class=\"index_name level0\" >ticker</th>\n",
       "      <th class=\"blank col0\" >&nbsp;</th>\n",
       "      <th class=\"blank col1\" >&nbsp;</th>\n",
       "    </tr>\n",
       "  </thead>\n",
       "  <tbody>\n",
       "    <tr>\n",
       "      <th id=\"T_0d6d3_level0_row0\" class=\"row_heading level0 row0\" >91282CCS Govt</th>\n",
       "      <td id=\"T_0d6d3_row0_col0\" class=\"data row0 col0\" >0.7427</td>\n",
       "      <td id=\"T_0d6d3_row0_col1\" class=\"data row0 col1\" >0.7474</td>\n",
       "    </tr>\n",
       "    <tr>\n",
       "      <th id=\"T_0d6d3_level0_row1\" class=\"row_heading level0 row1\" >91282CDJ Govt</th>\n",
       "      <td id=\"T_0d6d3_row1_col0\" class=\"data row1 col0\" >0.7418</td>\n",
       "      <td id=\"T_0d6d3_row1_col1\" class=\"data row1 col1\" >0.7463</td>\n",
       "    </tr>\n",
       "    <tr>\n",
       "      <th id=\"T_0d6d3_level0_row2\" class=\"row_heading level0 row2\" >91282CDY Govt</th>\n",
       "      <td id=\"T_0d6d3_row2_col0\" class=\"data row2 col0\" >0.7629</td>\n",
       "      <td id=\"T_0d6d3_row2_col1\" class=\"data row2 col1\" >0.7670</td>\n",
       "    </tr>\n",
       "    <tr>\n",
       "      <th id=\"T_0d6d3_level0_row3\" class=\"row_heading level0 row3\" >91282CEP Govt</th>\n",
       "      <td id=\"T_0d6d3_row3_col0\" class=\"data row3 col0\" >0.8155</td>\n",
       "      <td id=\"T_0d6d3_row3_col1\" class=\"data row3 col1\" >0.8184</td>\n",
       "    </tr>\n",
       "    <tr>\n",
       "      <th id=\"T_0d6d3_level0_row4\" class=\"row_heading level0 row4\" >91282CFF Govt</th>\n",
       "      <td id=\"T_0d6d3_row4_col0\" class=\"data row4 col0\" >0.8029</td>\n",
       "      <td id=\"T_0d6d3_row4_col1\" class=\"data row4 col1\" >0.8060</td>\n",
       "    </tr>\n",
       "    <tr>\n",
       "      <th id=\"T_0d6d3_level0_row5\" class=\"row_heading level0 row5\" >91282CFV Govt</th>\n",
       "      <td id=\"T_0d6d3_row5_col0\" class=\"data row5 col0\" >0.8833</td>\n",
       "      <td id=\"T_0d6d3_row5_col1\" class=\"data row5 col1\" >0.8851</td>\n",
       "    </tr>\n",
       "    <tr>\n",
       "      <th id=\"T_0d6d3_level0_row6\" class=\"row_heading level0 row6\" >91282CKW Govt</th>\n",
       "      <td id=\"T_0d6d3_row6_col0\" class=\"data row6 col0\" >0.9067</td>\n",
       "      <td id=\"T_0d6d3_row6_col1\" class=\"data row6 col1\" >0.9069</td>\n",
       "    </tr>\n",
       "    <tr>\n",
       "      <th id=\"T_0d6d3_level0_row7\" class=\"row_heading level0 row7\" >91282CLD Govt</th>\n",
       "      <td id=\"T_0d6d3_row7_col0\" class=\"data row7 col0\" >0.8989</td>\n",
       "      <td id=\"T_0d6d3_row7_col1\" class=\"data row7 col1\" >0.9003</td>\n",
       "    </tr>\n",
       "  </tbody>\n",
       "</table>\n"
      ],
      "text/plain": [
       "<pandas.io.formats.style.Styler at 0x20c9b478490>"
      ]
     },
     "execution_count": 13,
     "metadata": {},
     "output_type": "execute_result"
    }
   ],
   "source": [
    "pd.concat([converts,bonddata['conversion']],axis=1).rename(columns={0:'formula','conversion':'bloomberg'}).style.format('{:.4f}')"
   ]
  },
  {
   "cell_type": "markdown",
   "id": "2cbff753",
   "metadata": {},
   "source": [
    "***"
   ]
  },
  {
   "cell_type": "markdown",
   "id": "c832de74",
   "metadata": {},
   "source": [
    "# 2. Fed Funds Futures"
   ]
  },
  {
   "cell_type": "markdown",
   "id": "42fd696a",
   "metadata": {},
   "source": [
    "The file `data/fedfutures_2025-01-31.xlsx` has market data on the following:\n",
    "* Fed Fund Futures Chain out 18 months.\n",
    "* Dates of upcoming Fed meetings (approximated in 2026.)\n",
    "* Spot Fed Funds data\n",
    "* Prices of the futures chain on a historic date.\n",
    "\n",
    "Suppose the present date is `2024-01-31`."
   ]
  },
  {
   "cell_type": "markdown",
   "id": "d2193a95",
   "metadata": {},
   "source": [
    "### 2.1. Chart the Fed Futures Rates\n",
    "\n",
    "Chart the Fed Funds curve at\n",
    "* `2025-01-26`\n",
    "* `2025-01-31`\n",
    "\n",
    "Note that you are charting the implied Fed Funds Futures *rate*, not price.\n",
    "\n",
    "Comment on how today's **open interest** varies across the chain."
   ]
  },
  {
   "cell_type": "markdown",
   "id": "808edcc6",
   "metadata": {},
   "source": [
    "### 2.2 Extracting the Expected Path of Fed Funds Rates\n",
    "\n",
    "Assume the Fed...\n",
    "* sets the rate exactly at its list of meeting dates.\n",
    "* does not change the rate betweeen meeting dates.\n",
    "\n",
    "Use the present data to calculate--and plot--the implied set of expected Fed Funds rates as of each meeting date.\n",
    "\n",
    "#### Technical Point\n",
    "* Consider months, $t$, where there is a meeting, but such that in month $t+1$ there is no meeting.\n",
    "* There will be two reasonable ways to extract the expected fed funds rate:\n",
    "    1. Use the futures rate from the $t+1$-contract\n",
    "    2. Calculate the implied rate for the remainder of month $t$, knowing the expected rate at the end of month $t+1$.\n",
    "* These are both reasonable and will likely not differ much.\n",
    "\n",
    "Try to make reasonable assumptions as needed. to implement the calculation."
   ]
  },
  {
   "cell_type": "markdown",
   "id": "1d465d8d",
   "metadata": {},
   "source": [
    "### 2.3 Compare to the Historic Curve\n",
    "\n",
    "Use the price data in `2024` to extract the expectations at the previous date.\n",
    "* Note that you do not need to \"bootstrap\" up from the historic date to the current date. \n",
    "\n",
    "Compare this to the answer in the previous problem, for the current data."
   ]
  },
  {
   "cell_type": "markdown",
   "id": "fb88d353",
   "metadata": {},
   "source": [
    "***"
   ]
  },
  {
   "cell_type": "markdown",
   "id": "3c567b30",
   "metadata": {},
   "source": [
    "### <span style=\"color:red\">2.1. Plotting Futures Rates</span>\n",
    "\n",
    "### <span style=\"color:red\">2.2. Extracting Expected Fed Rates</span>"
   ]
  },
  {
   "cell_type": "code",
   "execution_count": 14,
   "id": "ee73d6a3",
   "metadata": {},
   "outputs": [],
   "source": [
    "DATE = '2025-01-31'\n",
    "\n",
    "filein = f'../data/fedfutures_{DATE}.xlsx'\n",
    "\n",
    "sheets = pd.ExcelFile(filein).sheet_names\n",
    "\n",
    "fedfunds = pd.read_excel(filein, sheet_name=f'fed funds').set_index('date')\n",
    "feddates = pd.read_excel(filein, sheet_name=f'fed meetings')"
   ]
  },
  {
   "cell_type": "code",
   "execution_count": 15,
   "id": "569f2db1",
   "metadata": {},
   "outputs": [],
   "source": [
    "warnings.filterwarnings('ignore')\n",
    "\n",
    "dates = sheets[0:3]\n",
    "fedfut = dict()\n",
    "curves = dict()\n",
    "for i in range(len(dates)):\n",
    "    dt = dates[i]\n",
    "    fedfut[dt] = pd.read_excel(filein, sheet_name=f'{dt}').set_index('ticker')\n",
    "    r0 = fedfunds.loc[dt,'fed funds rate']/100\n",
    "    temp_fed = fedfut[dt][['last_tradeable_dt','px_last']].copy()\n",
    "    temp_curve = extract_fedpath(temp_fed,feddates,r0)\n",
    "\n",
    "    if i==0:\n",
    "        curve_info = temp_curve\n",
    "        \n",
    "    curves[dt] = temp_curve[['futures rate','expected fed rate']]\n",
    "\n",
    "warnings.filterwarnings('default')"
   ]
  },
  {
   "cell_type": "markdown",
   "id": "e8147dea",
   "metadata": {},
   "source": [
    "### <span style=\"color:red\">2.3. Comparing to Historic Data</span>"
   ]
  },
  {
   "cell_type": "code",
   "execution_count": 16,
   "id": "52f3c297",
   "metadata": {},
   "outputs": [],
   "source": [
    "merged = pd.DataFrame({key: df['expected fed rate'] for key, df in curves.items()})"
   ]
  },
  {
   "cell_type": "code",
   "execution_count": 17,
   "id": "c0838180",
   "metadata": {},
   "outputs": [
    {
     "data": {
      "image/png": "[encoded data removed]",
      "text/plain": [
       "<Figure size 1200x600 with 1 Axes>"
      ]
     },
     "metadata": {},
     "output_type": "display_data"
    }
   ],
   "source": [
    "curveplot = curve_info[['futures rate','expected fed rate']].dropna(subset='expected fed rate')\n",
    "ax = curveplot['futures rate'].plot(drawstyle='steps-mid',color=['red']);\n",
    "curveplot['expected fed rate'].plot(ax=ax, drawstyle='steps-mid');\n",
    "ax.yaxis.set_major_formatter(mtick.PercentFormatter(xmax=1, decimals=None, symbol='%'));\n",
    "ax.set_ylabel('rate');\n",
    "ax.set_title('Implied Fed Funds Rate');\n",
    "ax.legend(['futures rate','expected fed rate'])\n",
    "plt.show()"
   ]
  },
  {
   "cell_type": "code",
   "execution_count": 18,
   "id": "0054721e",
   "metadata": {},
   "outputs": [
    {
     "data": {
      "image/png": "[encoded data removed]",
      "text/plain": [
       "<Figure size 1200x600 with 1 Axes>"
      ]
     },
     "metadata": {},
     "output_type": "display_data"
    }
   ],
   "source": [
    "SELECT = [0,2]\n",
    "dtsSelect = [dates[i] for i in SELECT]\n",
    "\n",
    "curveplot = merged[dtsSelect]\n",
    "ax = curveplot.plot(drawstyle='steps-mid')\n",
    "ax.yaxis.set_major_formatter(mtick.PercentFormatter(xmax=1, decimals=None, symbol='%'))\n",
    "ax.set_ylabel('rate')\n",
    "ax.set_title('Implied Fed Rate Announcement Change')\n",
    "\n",
    "plt.legend(dtsSelect)\n",
    "plt.show()"
   ]
  },
  {
   "cell_type": "code",
   "execution_count": 19,
   "id": "47bf602b",
   "metadata": {},
   "outputs": [
    {
     "data": {
      "image/png": "[encoded data removed]",
      "text/plain": [
       "<Figure size 1200x600 with 1 Axes>"
      ]
     },
     "metadata": {},
     "output_type": "display_data"
    }
   ],
   "source": [
    "SELECT = [0,1]\n",
    "dtsSelect = [dates[i] for i in SELECT]\n",
    "\n",
    "curveplot = merged[dtsSelect]\n",
    "ax = curveplot.plot(drawstyle='steps-mid')\n",
    "ax.yaxis.set_major_formatter(mtick.PercentFormatter(xmax=1, decimals=None, symbol='%'))\n",
    "ax.set_ylabel('rate');\n",
    "ax.set_title('Implied Fed Rate Comparison')\n",
    "\n",
    "plt.legend(dtsSelect)\n",
    "plt.show()"
   ]
  },
  {
   "cell_type": "code",
   "execution_count": 20,
   "id": "fa605291",
   "metadata": {},
   "outputs": [
    {
     "data": {
      "image/png": "[encoded data removed]",
      "text/plain": [
       "<Figure size 1200x600 with 1 Axes>"
      ]
     },
     "metadata": {},
     "output_type": "display_data"
    }
   ],
   "source": [
    "((curveplot['2025-01-31'] - curveplot['2025-01-26'])*100*100).plot(title='Change in Expected Rates',ylabel='bps')\n",
    "plt.show()"
   ]
  },
  {
   "cell_type": "markdown",
   "id": "016f3204",
   "metadata": {},
   "source": [
    "***"
   ]
  }
 ],
 "metadata": {
  "hide_input": true,
  "kernelspec": {
   "display_name": "base",
   "language": "python",
   "name": "python3"
  },
  "language_info": {
   "codemirror_mode": {
    "name": "ipython",
    "version": 3
   },
   "file_extension": ".py",
   "mimetype": "text/x-python",
   "name": "python",
   "nbconvert_exporter": "python",
   "pygments_lexer": "ipython3",
   "version": "3.11.5"
  }
 },
 "nbformat": 4,
 "nbformat_minor": 5
}
